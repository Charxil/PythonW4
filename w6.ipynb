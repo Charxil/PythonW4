{
 "cells": [
  {
   "cell_type": "code",
   "execution_count": 90,
   "metadata": {},
   "outputs": [
    {
     "name": "stdout",
     "output_type": "stream",
     "text": [
      "c:\\Users\\Peter_PPT\\OneDrive\\Courses\\MMDT Data Engineering\\exercise\\PythonW4\n",
      "c:\\Users\\Peter_PPT\\OneDrive\\Courses\\MMDT Data Engineering\\exercise\\PythonW4\n"
     ]
    }
   ],
   "source": [
    "import pandas as pd\n",
    "import os\n",
    "from datetime import datetime\n",
    "print(os.getcwd())\n",
    "wd = os.getcwd()\n",
    "print(wd)\n",
    "df = pd.read_csv('bankmarketing.csv')\n",
    "df['year'] = 2022\n",
    "# data = pd.read_csv('C:\\Users\\Peter_PPT\\OneDrive\\Courses\\MMDT Data Engineering\\exercise\\PythonW4\\bank_marking.csv')"
   ]
  },
  {
   "cell_type": "code",
   "execution_count": 6,
   "metadata": {},
   "outputs": [
    {
     "name": "stdout",
     "output_type": "stream",
     "text": [
      "<class 'pandas.core.frame.DataFrame'>\n",
      "RangeIndex: 41188 entries, 0 to 41187\n",
      "Data columns (total 16 columns):\n",
      " #   Column                      Non-Null Count  Dtype  \n",
      "---  ------                      --------------  -----  \n",
      " 0   client_id                   41188 non-null  int64  \n",
      " 1   age                         41188 non-null  int64  \n",
      " 2   job                         41188 non-null  object \n",
      " 3   marital                     41188 non-null  object \n",
      " 4   education                   41188 non-null  object \n",
      " 5   credit_default              41188 non-null  object \n",
      " 6   mortgage                    41188 non-null  object \n",
      " 7   month                       41188 non-null  object \n",
      " 8   day                         41188 non-null  int64  \n",
      " 9   contact_duration            41188 non-null  int64  \n",
      " 10  number_contacts             41188 non-null  int64  \n",
      " 11  previous_campaign_contacts  41188 non-null  int64  \n",
      " 12  previous_outcome            41188 non-null  object \n",
      " 13  cons_price_idx              41188 non-null  float64\n",
      " 14  euribor_three_months        41188 non-null  float64\n",
      " 15  campaign_outcome            41188 non-null  object \n",
      "dtypes: float64(2), int64(6), object(8)\n",
      "memory usage: 5.0+ MB\n"
     ]
    }
   ],
   "source": [
    "df.info()"
   ]
  },
  {
   "cell_type": "code",
   "execution_count": 7,
   "metadata": {},
   "outputs": [
    {
     "data": {
      "text/html": [
       "<div>\n",
       "<style scoped>\n",
       "    .dataframe tbody tr th:only-of-type {\n",
       "        vertical-align: middle;\n",
       "    }\n",
       "\n",
       "    .dataframe tbody tr th {\n",
       "        vertical-align: top;\n",
       "    }\n",
       "\n",
       "    .dataframe thead th {\n",
       "        text-align: right;\n",
       "    }\n",
       "</style>\n",
       "<table border=\"1\" class=\"dataframe\">\n",
       "  <thead>\n",
       "    <tr style=\"text-align: right;\">\n",
       "      <th></th>\n",
       "      <th>client_id</th>\n",
       "      <th>age</th>\n",
       "      <th>day</th>\n",
       "      <th>contact_duration</th>\n",
       "      <th>number_contacts</th>\n",
       "      <th>previous_campaign_contacts</th>\n",
       "      <th>cons_price_idx</th>\n",
       "      <th>euribor_three_months</th>\n",
       "    </tr>\n",
       "  </thead>\n",
       "  <tbody>\n",
       "    <tr>\n",
       "      <th>count</th>\n",
       "      <td>41188.00000</td>\n",
       "      <td>41188.00000</td>\n",
       "      <td>41188.000000</td>\n",
       "      <td>41188.000000</td>\n",
       "      <td>41188.000000</td>\n",
       "      <td>41188.000000</td>\n",
       "      <td>41188.000000</td>\n",
       "      <td>41188.000000</td>\n",
       "    </tr>\n",
       "    <tr>\n",
       "      <th>mean</th>\n",
       "      <td>20593.50000</td>\n",
       "      <td>40.02406</td>\n",
       "      <td>15.730334</td>\n",
       "      <td>258.285010</td>\n",
       "      <td>2.567593</td>\n",
       "      <td>0.172963</td>\n",
       "      <td>93.575664</td>\n",
       "      <td>3.621291</td>\n",
       "    </tr>\n",
       "    <tr>\n",
       "      <th>std</th>\n",
       "      <td>11890.09578</td>\n",
       "      <td>10.42125</td>\n",
       "      <td>8.889867</td>\n",
       "      <td>259.279249</td>\n",
       "      <td>2.770014</td>\n",
       "      <td>0.494901</td>\n",
       "      <td>0.578840</td>\n",
       "      <td>1.734447</td>\n",
       "    </tr>\n",
       "    <tr>\n",
       "      <th>min</th>\n",
       "      <td>0.00000</td>\n",
       "      <td>17.00000</td>\n",
       "      <td>1.000000</td>\n",
       "      <td>0.000000</td>\n",
       "      <td>1.000000</td>\n",
       "      <td>0.000000</td>\n",
       "      <td>92.201000</td>\n",
       "      <td>0.634000</td>\n",
       "    </tr>\n",
       "    <tr>\n",
       "      <th>25%</th>\n",
       "      <td>10296.75000</td>\n",
       "      <td>32.00000</td>\n",
       "      <td>8.000000</td>\n",
       "      <td>102.000000</td>\n",
       "      <td>1.000000</td>\n",
       "      <td>0.000000</td>\n",
       "      <td>93.075000</td>\n",
       "      <td>1.344000</td>\n",
       "    </tr>\n",
       "    <tr>\n",
       "      <th>50%</th>\n",
       "      <td>20593.50000</td>\n",
       "      <td>38.00000</td>\n",
       "      <td>16.000000</td>\n",
       "      <td>180.000000</td>\n",
       "      <td>2.000000</td>\n",
       "      <td>0.000000</td>\n",
       "      <td>93.749000</td>\n",
       "      <td>4.857000</td>\n",
       "    </tr>\n",
       "    <tr>\n",
       "      <th>75%</th>\n",
       "      <td>30890.25000</td>\n",
       "      <td>47.00000</td>\n",
       "      <td>23.000000</td>\n",
       "      <td>319.000000</td>\n",
       "      <td>3.000000</td>\n",
       "      <td>0.000000</td>\n",
       "      <td>93.994000</td>\n",
       "      <td>4.961000</td>\n",
       "    </tr>\n",
       "    <tr>\n",
       "      <th>max</th>\n",
       "      <td>41187.00000</td>\n",
       "      <td>98.00000</td>\n",
       "      <td>31.000000</td>\n",
       "      <td>4918.000000</td>\n",
       "      <td>56.000000</td>\n",
       "      <td>7.000000</td>\n",
       "      <td>94.767000</td>\n",
       "      <td>5.045000</td>\n",
       "    </tr>\n",
       "  </tbody>\n",
       "</table>\n",
       "</div>"
      ],
      "text/plain": [
       "         client_id          age           day  contact_duration  \\\n",
       "count  41188.00000  41188.00000  41188.000000      41188.000000   \n",
       "mean   20593.50000     40.02406     15.730334        258.285010   \n",
       "std    11890.09578     10.42125      8.889867        259.279249   \n",
       "min        0.00000     17.00000      1.000000          0.000000   \n",
       "25%    10296.75000     32.00000      8.000000        102.000000   \n",
       "50%    20593.50000     38.00000     16.000000        180.000000   \n",
       "75%    30890.25000     47.00000     23.000000        319.000000   \n",
       "max    41187.00000     98.00000     31.000000       4918.000000   \n",
       "\n",
       "       number_contacts  previous_campaign_contacts  cons_price_idx  \\\n",
       "count     41188.000000                41188.000000    41188.000000   \n",
       "mean          2.567593                    0.172963       93.575664   \n",
       "std           2.770014                    0.494901        0.578840   \n",
       "min           1.000000                    0.000000       92.201000   \n",
       "25%           1.000000                    0.000000       93.075000   \n",
       "50%           2.000000                    0.000000       93.749000   \n",
       "75%           3.000000                    0.000000       93.994000   \n",
       "max          56.000000                    7.000000       94.767000   \n",
       "\n",
       "       euribor_three_months  \n",
       "count          41188.000000  \n",
       "mean               3.621291  \n",
       "std                1.734447  \n",
       "min                0.634000  \n",
       "25%                1.344000  \n",
       "50%                4.857000  \n",
       "75%                4.961000  \n",
       "max                5.045000  "
      ]
     },
     "execution_count": 7,
     "metadata": {},
     "output_type": "execute_result"
    }
   ],
   "source": [
    "df.describe()"
   ]
  },
  {
   "cell_type": "markdown",
   "metadata": {},
   "source": [
    "## check list\n",
    "### need to clean\n",
    "job: remove .\n",
    "education replace . to -\n",
    "### no need to clean\n",
    "age no need as it is integer and limit is between 17 and 98\n",
    "marital\n",
    "credit_default\n",
    "mortgage\n",
    "month\n",
    "day no need as it is integer and limit is between 1 and 31\n",
    "contact_duration no need as it is integer and limit is between 1 and 31\n",
    "number_contacts\n",
    "previous_campaign_contacts\n",
    "previous_outcome\n",
    "cons_price_idx\n",
    "euribor_three_months"
   ]
  },
  {
   "cell_type": "code",
   "execution_count": 36,
   "metadata": {},
   "outputs": [
    {
     "name": "stdout",
     "output_type": "stream",
     "text": [
      "Index(['client_id', 'age', 'job', 'marital', 'education', 'credit_default',\n",
      "       'mortgage', 'month', 'day', 'contact_duration', 'number_contacts',\n",
      "       'previous_campaign_contacts', 'previous_outcome', 'cons_price_idx',\n",
      "       'euribor_three_months', 'campaign_outcome'],\n",
      "      dtype='object')\n",
      "['no' 'yes']\n",
      "no\n",
      "yes\n",
      "object\n"
     ]
    }
   ],
   "source": [
    "a= df.campaign_outcome\n",
    "print(df.columns)\n",
    "print(a.unique())\n",
    "print(a.min())\n",
    "print(a.max())\n",
    "print(a.dtype)"
   ]
  },
  {
   "cell_type": "code",
   "execution_count": 81,
   "metadata": {},
   "outputs": [
    {
     "ename": "AttributeError",
     "evalue": "'DataFrame' object has no attribute 'year'",
     "output_type": "error",
     "traceback": [
      "\u001b[1;31m---------------------------------------------------------------------------\u001b[0m",
      "\u001b[1;31mAttributeError\u001b[0m                            Traceback (most recent call last)",
      "\u001b[1;32m~\\AppData\\Local\\Temp\\ipykernel_4328\\1346771808.py\u001b[0m in \u001b[0;36m?\u001b[1;34m()\u001b[0m\n\u001b[1;32m----> 1\u001b[1;33m \u001b[0mdf\u001b[0m\u001b[1;33m.\u001b[0m\u001b[0myear\u001b[0m\u001b[1;33m\u001b[0m\u001b[1;33m\u001b[0m\u001b[0m\n\u001b[0m",
      "\u001b[1;32mc:\\Users\\Peter_PPT\\anaconda3\\envs\\webenv\\lib\\site-packages\\pandas\\core\\generic.py\u001b[0m in \u001b[0;36m?\u001b[1;34m(self, name)\u001b[0m\n\u001b[0;32m   6200\u001b[0m             \u001b[1;32mand\u001b[0m \u001b[0mname\u001b[0m \u001b[1;32mnot\u001b[0m \u001b[1;32min\u001b[0m \u001b[0mself\u001b[0m\u001b[1;33m.\u001b[0m\u001b[0m_accessors\u001b[0m\u001b[1;33m\u001b[0m\u001b[1;33m\u001b[0m\u001b[0m\n\u001b[0;32m   6201\u001b[0m             \u001b[1;32mand\u001b[0m \u001b[0mself\u001b[0m\u001b[1;33m.\u001b[0m\u001b[0m_info_axis\u001b[0m\u001b[1;33m.\u001b[0m\u001b[0m_can_hold_identifiers_and_holds_name\u001b[0m\u001b[1;33m(\u001b[0m\u001b[0mname\u001b[0m\u001b[1;33m)\u001b[0m\u001b[1;33m\u001b[0m\u001b[1;33m\u001b[0m\u001b[0m\n\u001b[0;32m   6202\u001b[0m         ):\n\u001b[0;32m   6203\u001b[0m             \u001b[1;32mreturn\u001b[0m \u001b[0mself\u001b[0m\u001b[1;33m[\u001b[0m\u001b[0mname\u001b[0m\u001b[1;33m]\u001b[0m\u001b[1;33m\u001b[0m\u001b[1;33m\u001b[0m\u001b[0m\n\u001b[1;32m-> 6204\u001b[1;33m         \u001b[1;32mreturn\u001b[0m \u001b[0mobject\u001b[0m\u001b[1;33m.\u001b[0m\u001b[0m__getattribute__\u001b[0m\u001b[1;33m(\u001b[0m\u001b[0mself\u001b[0m\u001b[1;33m,\u001b[0m \u001b[0mname\u001b[0m\u001b[1;33m)\u001b[0m\u001b[1;33m\u001b[0m\u001b[1;33m\u001b[0m\u001b[0m\n\u001b[0m",
      "\u001b[1;31mAttributeError\u001b[0m: 'DataFrame' object has no attribute 'year'"
     ]
    }
   ],
   "source": [
    "df.year"
   ]
  },
  {
   "cell_type": "markdown",
   "metadata": {},
   "source": [
    "## Checklist for data cleaning\n",
    "1. read csv file\n",
    "2. Group same column\n",
    "3. start cleaning Client data\n",
    "    1. start cleaning 'job' column? \".\" replace with \"_\"\n",
    "    2. education\n",
    "    3. 'yes' - 1, else -0 \n",
    "4. start cleaning Campaign data\n",
    "    1. ...\n",
    "    2. 'last_contact_data' created by month, day, year (default 2022)"
   ]
  },
  {
   "cell_type": "code",
   "execution_count": 85,
   "metadata": {},
   "outputs": [
    {
     "name": "stdout",
     "output_type": "stream",
     "text": [
      "Index(['client_id', 'age', 'job', 'marital', 'education', 'credit_default',\n",
      "       'mortgage', 'month', 'day', 'contact_duration', 'number_contacts',\n",
      "       'previous_campaign_contacts', 'previous_outcome', 'cons_price_idx',\n",
      "       'euribor_three_months', 'campaign_outcome', 'year'],\n",
      "      dtype='object')\n"
     ]
    }
   ],
   "source": [
    "clientcol = ['client_id','age','job','marital','education','credit_default','mortgage']\n",
    "campaign_cols = ['client_id','number_contacts','contact_duration','previous_campaign_contacts','previous_outcome',]\n",
    "economics_cols = ['client_id','cons_price_idx','euribor_three_month']\n",
    "\n",
    "extra_date_cols = ['day','month','year']\n",
    "print(df.columns)\n"
   ]
  },
  {
   "cell_type": "code",
   "execution_count": 79,
   "metadata": {},
   "outputs": [
    {
     "name": "stdout",
     "output_type": "stream",
     "text": [
      "<class 'pandas.core.frame.DataFrame'>\n",
      "RangeIndex: 41188 entries, 0 to 41187\n",
      "Data columns (total 7 columns):\n",
      " #   Column          Non-Null Count  Dtype \n",
      "---  ------          --------------  ----- \n",
      " 0   client_id       41188 non-null  int64 \n",
      " 1   age             41188 non-null  int64 \n",
      " 2   job             41188 non-null  object\n",
      " 3   marital         41188 non-null  object\n",
      " 4   education       41188 non-null  object\n",
      " 5   credit_default  41188 non-null  object\n",
      " 6   mortgage        41188 non-null  object\n",
      "dtypes: int64(2), object(5)\n",
      "memory usage: 2.2+ MB\n",
      "None\n",
      "[False True]\n"
     ]
    }
   ],
   "source": [
    "## Select client data from raw dataframe\n",
    "client_df = df[clientcol]\n",
    "adf = df[clientcol]\n",
    "# print(client_df.columns)\n",
    "\n",
    "# print(df.shape)\n",
    "# print(client_df.shape)\n",
    "\n",
    "## job column - replace '.' for the last word with ''\n",
    "client_df.loc[:,'job']=client_df['job'].str.replace(r'\\.$','',regex=True) ## .str.rstrip(\".\")\n",
    "# print(client_df.job.value_counts())\n",
    "\n",
    "## education col - replace \".\" with '_'\n",
    "client_df.loc[:,'education']=client_df['education'].str.replace(\".\",\"_\")\n",
    "# print(client_df.education.value_counts())\n",
    "\n",
    "## mapping / iterrow/ itertuple/ apply\n",
    "client_df.loc[:,'credit_default'] = client_df['credit_default'].apply(lambda row:True if row=='yes' else False).astype('bool')\n",
    "# print(client_df['credit_default'].unique)\n",
    "# print(client_df.credit_default.unique())\n",
    "client_df.loc[:,'mortgage'] = client_df.apply(lambda row:True if row['mortgage']=='yes' else False,axis=1)\n",
    "bool_mapping = {'yes':True, 'no':False, 'unknown': False}\n",
    "a=adf['credit_default'].replace(bool_mapping)\n",
    "b=adf['credit_default'].map(bool_mapping)\n",
    "# print(a.value_counts())\n",
    "# print(a)\n",
    "# print(b.value_counts())\n",
    "# print(adf.credit_default.value_counts())\n",
    "print(client_df.info())\n",
    "print(client_df.mortgage.unique())"
   ]
  },
  {
   "cell_type": "code",
   "execution_count": 95,
   "metadata": {},
   "outputs": [
    {
     "name": "stdout",
     "output_type": "stream",
     "text": [
      "<DatetimeArray>\n",
      "['2022-05-13 00:00:00', '2022-05-19 00:00:00', '2022-05-23 00:00:00',\n",
      " '2022-05-27 00:00:00', '2022-05-03 00:00:00', '2022-05-05 00:00:00',\n",
      " '2022-05-12 00:00:00', '2022-05-21 00:00:00', '2022-05-08 00:00:00',\n",
      " '2022-05-09 00:00:00',\n",
      " ...\n",
      " '2022-12-10 00:00:00', '2022-12-02 00:00:00', '2022-12-15 00:00:00',\n",
      " '2022-12-04 00:00:00', '2022-12-18 00:00:00', '2022-12-16 00:00:00',\n",
      " '2022-12-30 00:00:00', '2022-12-01 00:00:00', '2022-12-23 00:00:00',\n",
      " '2022-12-03 00:00:00']\n",
      "Length: 306, dtype: datetime64[ns]\n"
     ]
    },
    {
     "name": "stderr",
     "output_type": "stream",
     "text": [
      "C:\\Users\\Peter_PPT\\AppData\\Local\\Temp\\ipykernel_4328\\1073757044.py:7: UserWarning: Could not infer format, so each element will be parsed individually, falling back to `dateutil`. To ensure parsing is consistent and as-expected, please specify a format.\n",
      "  campaign_df['last_contact_date'] = pd.to_datetime(\n",
      "C:\\Users\\Peter_PPT\\AppData\\Local\\Temp\\ipykernel_4328\\1073757044.py:7: SettingWithCopyWarning: \n",
      "A value is trying to be set on a copy of a slice from a DataFrame.\n",
      "Try using .loc[row_indexer,col_indexer] = value instead\n",
      "\n",
      "See the caveats in the documentation: https://pandas.pydata.org/pandas-docs/stable/user_guide/indexing.html#returning-a-view-versus-a-copy\n",
      "  campaign_df['last_contact_date'] = pd.to_datetime(\n",
      "C:\\Users\\Peter_PPT\\AppData\\Local\\Temp\\ipykernel_4328\\1073757044.py:12: SettingWithCopyWarning: \n",
      "A value is trying to be set on a copy of a slice from a DataFrame.\n",
      "Try using .loc[row_indexer,col_indexer] = value instead\n",
      "\n",
      "See the caveats in the documentation: https://pandas.pydata.org/pandas-docs/stable/user_guide/indexing.html#returning-a-view-versus-a-copy\n",
      "  campaign_df['month'] = pd.to_datetime(campaign_df['month'], format='%b').dt.month\n",
      "C:\\Users\\Peter_PPT\\AppData\\Local\\Temp\\ipykernel_4328\\1073757044.py:15: SettingWithCopyWarning: \n",
      "A value is trying to be set on a copy of a slice from a DataFrame.\n",
      "Try using .loc[row_indexer,col_indexer] = value instead\n",
      "\n",
      "See the caveats in the documentation: https://pandas.pydata.org/pandas-docs/stable/user_guide/indexing.html#returning-a-view-versus-a-copy\n",
      "  campaign_df['last_contact_date'] = pd.to_datetime(\n"
     ]
    }
   ],
   "source": [
    "## Campaing data\n",
    "campaign_df = df[campaign_cols+extra_date_cols]\n",
    "# print(campaign_df.columns)\n",
    "\n",
    "## create date - last_contact_date\n",
    "## day, month, year -> change string type, concat 3 cols, pd.to_datetime(..)\n",
    "campaign_df['last_contact_date'] = pd.to_datetime(\n",
    "    campaign_df['day'].astype(str) +'-'+ campaign_df['month'] +'-'+ campaign_df['year'].astype(str)\n",
    ")\n",
    "# print(campaign_df['last_contact_date'])\n",
    "# print(df.month.unique())\n",
    "campaign_df['month'] = pd.to_datetime(campaign_df['month'], format='%b').dt.month\n",
    "# print(campaign_df.month.head())\n",
    "# print(campaign_df.month.unique())\n",
    "campaign_df['last_contact_date'] = pd.to_datetime(\n",
    "    dict(year=campaign_df.year, month=campaign_df.month, day=campaign_df.day)\n",
    ")\n",
    "print(campaign_df.last_contact_date.unique())\n",
    "##"
   ]
  },
  {
   "cell_type": "code",
   "execution_count": 87,
   "metadata": {},
   "outputs": [
    {
     "data": {
      "text/plain": [
       "Index(['client_id', 'age', 'job', 'marital', 'education', 'credit_default',\n",
       "       'mortgage', 'month', 'day', 'contact_duration', 'number_contacts',\n",
       "       'previous_campaign_contacts', 'previous_outcome', 'cons_price_idx',\n",
       "       'euribor_three_months', 'campaign_outcome', 'year'],\n",
       "      dtype='object')"
      ]
     },
     "execution_count": 87,
     "metadata": {},
     "output_type": "execute_result"
    }
   ],
   "source": [
    "df.columns"
   ]
  },
  {
   "cell_type": "code",
   "execution_count": null,
   "metadata": {},
   "outputs": [],
   "source": []
  }
 ],
 "metadata": {
  "kernelspec": {
   "display_name": "webenv",
   "language": "python",
   "name": "python3"
  },
  "language_info": {
   "codemirror_mode": {
    "name": "ipython",
    "version": 3
   },
   "file_extension": ".py",
   "mimetype": "text/x-python",
   "name": "python",
   "nbconvert_exporter": "python",
   "pygments_lexer": "ipython3",
   "version": "3.9.18"
  }
 },
 "nbformat": 4,
 "nbformat_minor": 2
}
